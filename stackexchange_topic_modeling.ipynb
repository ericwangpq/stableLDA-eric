{
 "cells": [
  {
   "cell_type": "code",
   "execution_count": 1,
   "id": "f5f60776",
   "metadata": {},
   "outputs": [],
   "source": [
    "import io\n",
    "import pandas as pd\n",
    "import gensim"
   ]
  },
  {
   "cell_type": "code",
   "execution_count": 2,
   "id": "fda2eb83",
   "metadata": {},
   "outputs": [],
   "source": [
    "from stability import *\n",
    "from stablelda import StableLDA"
   ]
  },
  {
   "cell_type": "markdown",
   "id": "3f6c2a9c",
   "metadata": {},
   "source": [
    "#### train a topic model of 25 topics on the stackexchange dataset using Stable LDA "
   ]
  },
  {
   "cell_type": "code",
   "execution_count": 3,
   "id": "1aa3c57d",
   "metadata": {},
   "outputs": [],
   "source": [
    "bow_file = 'data/stackexchange.bow'\n",
    "vocab_file = 'data/stackexchange.vocab'\n",
    "\n",
    "num_topics = 25\n",
    "num_words = 5000\n",
    "alpha, beta, eta = 1, 0.01, 1000\n",
    "epochs = 5\n",
    "rand_seed = 42\n",
    "output_dir = 'data/output/'"
   ]
  },
  {
   "cell_type": "code",
   "execution_count": 4,
   "id": "c88320de",
   "metadata": {},
   "outputs": [
    {
     "name": "stdout",
     "output_type": "stream",
     "text": [
      "--------running Stable LDA model----------\n",
      "--------- loading data ----------------\n"
     ]
    },
    {
     "name": "stderr",
     "output_type": "stream",
     "text": [
      "C:\\Users\\jjp\\.conda\\envs\\py38\\lib\\site-packages\\sklearn\\cluster\\_kmeans.py:1420: FutureWarning: algorithm='full' is deprecated, it will be removed in 1.3. Using 'lloyd' instead.\n",
      "  warnings.warn(\n"
     ]
    },
    {
     "name": "stdout",
     "output_type": "stream",
     "text": [
      "./train -f data/stackexchange.bow -v data/stackexchange.vocab -c data/output/cluster.dat -z data/output/z.dat -t 25 -w 5000 -a 1 -b 0.01 -e 1000 -n 5 -r 42 -o data/output/\n"
     ]
    },
    {
     "ename": "FileNotFoundError",
     "evalue": "[Errno 2] No such file or directory: 'data/output/theta.dat'",
     "output_type": "error",
     "traceback": [
      "\u001b[1;31m---------------------------------------------------------------------------\u001b[0m",
      "\u001b[1;31mFileNotFoundError\u001b[0m                         Traceback (most recent call last)",
      "Cell \u001b[1;32mIn[4], line 4\u001b[0m\n\u001b[0;32m      1\u001b[0m stablelda \u001b[38;5;241m=\u001b[39m StableLDA(num_topics, num_words, alpha, beta, eta, rand_seed, output_dir)\n\u001b[0;32m      2\u001b[0m stablelda\u001b[38;5;241m.\u001b[39mtrain(bow_file, vocab_file, epochs)\n\u001b[1;32m----> 4\u001b[0m docs, vocab, theta, phi \u001b[38;5;241m=\u001b[39m \u001b[43mload_topic_model_results\u001b[49m\u001b[43m(\u001b[49m\u001b[43mbow_file\u001b[49m\u001b[43m,\u001b[49m\u001b[43m \u001b[49m\u001b[43mvocab_file\u001b[49m\u001b[43m,\u001b[49m\n\u001b[0;32m      5\u001b[0m \u001b[43m                                                     \u001b[49m\u001b[43moutput_dir\u001b[49m\u001b[38;5;241;43m+\u001b[39;49m\u001b[38;5;124;43m'\u001b[39;49m\u001b[38;5;124;43mtheta.dat\u001b[39;49m\u001b[38;5;124;43m'\u001b[39;49m\u001b[43m,\u001b[49m\u001b[43m \u001b[49m\u001b[43moutput_dir\u001b[49m\u001b[38;5;241;43m+\u001b[39;49m\u001b[38;5;124;43m'\u001b[39;49m\u001b[38;5;124;43mphi.dat\u001b[39;49m\u001b[38;5;124;43m'\u001b[39;49m\u001b[43m)\u001b[49m\n\u001b[0;32m      6\u001b[0m tm \u001b[38;5;241m=\u001b[39m TopicModel(num_topics, theta, phi, docs, vocab)\n\u001b[0;32m      8\u001b[0m tm\u001b[38;5;241m.\u001b[39mprint_top_n_words(\u001b[38;5;241m10\u001b[39m)\n",
      "File \u001b[1;32m~\\Jupyter-Win\\stablelda-1122\\StableLDA-main\\stability.py:157\u001b[0m, in \u001b[0;36mload_topic_model_results\u001b[1;34m(doc_path, vocab_path, theta_path, phi_path)\u001b[0m\n\u001b[0;32m    154\u001b[0m     lines \u001b[38;5;241m=\u001b[39m f\u001b[38;5;241m.\u001b[39mread()\u001b[38;5;241m.\u001b[39msplitlines()\n\u001b[0;32m    155\u001b[0m     docs \u001b[38;5;241m=\u001b[39m [[vocab2id[w] \u001b[38;5;28;01mfor\u001b[39;00m w \u001b[38;5;129;01min\u001b[39;00m line\u001b[38;5;241m.\u001b[39msplit()] \u001b[38;5;28;01mfor\u001b[39;00m line \u001b[38;5;129;01min\u001b[39;00m lines]\n\u001b[1;32m--> 157\u001b[0m \u001b[38;5;28;01mwith\u001b[39;00m \u001b[38;5;28;43mopen\u001b[39;49m\u001b[43m(\u001b[49m\u001b[43mtheta_path\u001b[49m\u001b[43m,\u001b[49m\u001b[43m \u001b[49m\u001b[38;5;124;43m'\u001b[39;49m\u001b[38;5;124;43mr\u001b[39;49m\u001b[38;5;124;43m'\u001b[39;49m\u001b[43m,\u001b[49m\u001b[43m \u001b[49m\u001b[43mencoding\u001b[49m\u001b[38;5;241;43m=\u001b[39;49m\u001b[38;5;124;43m'\u001b[39;49m\u001b[38;5;124;43mutf-8\u001b[39;49m\u001b[38;5;124;43m'\u001b[39;49m\u001b[43m)\u001b[49m \u001b[38;5;28;01mas\u001b[39;00m f:\n\u001b[0;32m    158\u001b[0m     lines \u001b[38;5;241m=\u001b[39m f\u001b[38;5;241m.\u001b[39mread()\u001b[38;5;241m.\u001b[39msplitlines()\n\u001b[0;32m    159\u001b[0m     theta \u001b[38;5;241m=\u001b[39m [ [\u001b[38;5;28mfloat\u001b[39m(p) \u001b[38;5;28;01mfor\u001b[39;00m p \u001b[38;5;129;01min\u001b[39;00m line\u001b[38;5;241m.\u001b[39msplit() ] \u001b[38;5;28;01mfor\u001b[39;00m line \u001b[38;5;129;01min\u001b[39;00m lines]\n",
      "\u001b[1;31mFileNotFoundError\u001b[0m: [Errno 2] No such file or directory: 'data/output/theta.dat'"
     ]
    }
   ],
   "source": [
    "stablelda = StableLDA(num_topics, num_words, alpha, beta, eta, rand_seed, output_dir)\n",
    "stablelda.train(bow_file, vocab_file, epochs)\n",
    "\n",
    "docs, vocab, theta, phi = load_topic_model_results(bow_file, vocab_file,\n",
    "                                                     output_dir+'theta.dat', output_dir+'phi.dat')\n",
    "tm = TopicModel(num_topics, theta, phi, docs, vocab)\n",
    "\n",
    "tm.print_top_n_words(10)"
   ]
  },
  {
   "cell_type": "markdown",
   "id": "eba00bda",
   "metadata": {},
   "source": [
    "#### compute model perplexity"
   ]
  },
  {
   "cell_type": "code",
   "execution_count": null,
   "id": "d6025efb",
   "metadata": {},
   "outputs": [],
   "source": [
    "compute_perlexity(docs, theta, phi)"
   ]
  },
  {
   "cell_type": "markdown",
   "id": "d04c0add",
   "metadata": {},
   "source": [
    "#### compute model coherence.\n",
    "we use Gensim's coherence method. We need to prepare gensim_bow, and id2word"
   ]
  },
  {
   "cell_type": "code",
   "execution_count": null,
   "id": "0809a708",
   "metadata": {},
   "outputs": [],
   "source": [
    "topics = tm.get_top_n_words(10)"
   ]
  },
  {
   "cell_type": "code",
   "execution_count": null,
   "id": "0a2d5857",
   "metadata": {},
   "outputs": [],
   "source": [
    "#### read in raw text data -- used for windows-based topic coherence measure\n",
    "with io.open(bow_file, 'r', encoding='utf-8') as f:\n",
    "    texts = [line.split() for line in f.read().splitlines()]"
   ]
  },
  {
   "cell_type": "code",
   "execution_count": null,
   "id": "191f41b2",
   "metadata": {},
   "outputs": [],
   "source": [
    "#### prepare gensim_bow and id2word\n",
    "id2word = gensim.corpora.Dictionary(texts)\n",
    "gensim_bow = [id2word.doc2bow(text) for text in texts]"
   ]
  },
  {
   "cell_type": "code",
   "execution_count": null,
   "id": "4988a513",
   "metadata": {},
   "outputs": [],
   "source": [
    "print('topic coherence c_uci', compute_coherence(gensim_bow, texts, id2word, topics, coherence_score='c_uci') )"
   ]
  },
  {
   "cell_type": "code",
   "execution_count": null,
   "id": "e18502d8",
   "metadata": {},
   "outputs": [],
   "source": [
    "print('topic coherence c_v', compute_coherence(gensim_bow, texts, id2word, topics, coherence_score='c_v') )"
   ]
  },
  {
   "cell_type": "code",
   "execution_count": null,
   "id": "0b63aaf9",
   "metadata": {},
   "outputs": [],
   "source": []
  }
 ],
 "metadata": {
  "kernelspec": {
   "display_name": "Python 3 (ipykernel)",
   "language": "python",
   "name": "python3"
  },
  "language_info": {
   "codemirror_mode": {
    "name": "ipython",
    "version": 3
   },
   "file_extension": ".py",
   "mimetype": "text/x-python",
   "name": "python",
   "nbconvert_exporter": "python",
   "pygments_lexer": "ipython3",
   "version": "3.8.18"
  }
 },
 "nbformat": 4,
 "nbformat_minor": 5
}
